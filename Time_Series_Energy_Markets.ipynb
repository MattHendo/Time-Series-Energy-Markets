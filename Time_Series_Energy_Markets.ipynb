{
 "cells": [
  {
   "cell_type": "markdown",
   "id": "c116c679-1ee4-4be8-9f04-d03cfab988cb",
   "metadata": {},
   "source": [
    "# Predicting Energy Prices Using Time Series Analysis\n",
    "\n",
    "_By Isaac Valencia, Patrick de Beer, Cristina Ravenna, \n",
    "Mattias Escuerdo,and Matthew Henderson_\n",
    "n\r\n"
   ]
  },
  {
   "cell_type": "markdown",
   "id": "b0cff07b-3d18-43fe-b5fc-29774498d6b1",
   "metadata": {},
   "source": [
    "## Problem Statement and Motivation"
   ]
  },
  {
   "cell_type": "markdown",
   "id": "124f8929-e88d-4f70-9b75-201f0c79a7d4",
   "metadata": {},
   "source": [
    "## Intoduction and Description of Data"
   ]
  },
  {
   "cell_type": "markdown",
   "id": "cbe5bc69-523c-4e97-bcb0-2d08111c02c9",
   "metadata": {},
   "source": [
    "## Modeling Approach"
   ]
  },
  {
   "cell_type": "code",
   "execution_count": null,
   "id": "8dfbe818-7b37-4072-bc68-0e6fdeed950d",
   "metadata": {},
   "outputs": [],
   "source": []
  },
  {
   "cell_type": "markdown",
   "id": "25cd020e-3125-4379-b1e6-44a0b6db2788",
   "metadata": {},
   "source": [
    "## Project Trajectory, Results, and Interpretation"
   ]
  },
  {
   "cell_type": "markdown",
   "id": "3ba66b45-924b-4ce7-8ae3-91145ce707cf",
   "metadata": {},
   "source": [
    "## Conclusion and Future Work"
   ]
  },
  {
   "cell_type": "code",
   "execution_count": null,
   "id": "eefbe336-e96a-401f-a4d5-cd1c79ef1685",
   "metadata": {},
   "outputs": [],
   "source": []
  }
 ],
 "metadata": {
  "kernelspec": {
   "display_name": "Python 3 (ipykernel)",
   "language": "python",
   "name": "python3"
  },
  "language_info": {
   "codemirror_mode": {
    "name": "ipython",
    "version": 3
   },
   "file_extension": ".py",
   "mimetype": "text/x-python",
   "name": "python",
   "nbconvert_exporter": "python",
   "pygments_lexer": "ipython3",
   "version": "3.12.4"
  }
 },
 "nbformat": 4,
 "nbformat_minor": 5
}
